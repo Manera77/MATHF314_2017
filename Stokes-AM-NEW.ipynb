{
 "cells": [
  {
   "cell_type": "markdown",
   "metadata": {},
   "source": [
    "## PHYS-F-302 : Mécanique Quantique, partie numérique\n",
    "\n",
    "Aurélien Manera"
   ]
  },
  {
   "cell_type": "markdown",
   "metadata": {},
   "source": [
    " Le problème consiste à résoudre l'équation $\\Delta^2\\psi=0$ par la méthode du gradient conjugué."
   ]
  },
  {
   "cell_type": "markdown",
   "metadata": {},
   "source": [
    "Nous allons décrire le flux de Stokes dans une cavitée carrée en résolvant une équation biharmonique. Le flux de Stokes nous permet de simplifier les équations de Navier-Stokes, en éliminant la non-linéarité. "
   ]
  },
  {
   "cell_type": "markdown",
   "metadata": {},
   "source": [
    "Il faut tout d'abord discétiser une équation biharmonique :\n",
    "\n",
    "\\begin{equation}\n",
    "\\nabla^{4}\\psi = 0\n",
    "\\end{equation}\n"
   ]
  },
  {
   "cell_type": "markdown",
   "metadata": {},
   "source": [
    "On a donc :\n",
    "\n",
    "\\begin{equation}\n",
    "\\nabla^{2}(\\nabla^{2}\\psi) = 0\n",
    "\\end{equation}\n",
    "\n",
    "\\begin{equation}\n",
    "\\partial_{x}^{4}\\psi + \\partial_{y}^{4}\\psi + 2\\partial_{x}^{2}\\partial_{y}^{2}\\psi = 0 \n",
    "\\end{equation}"
   ]
  },
  {
   "cell_type": "markdown",
   "metadata": {},
   "source": [
    "Maintenant, nous allons la discrétiser :\n",
    "    \n",
    "\\begin{equation}\n",
    "\\partial_{x}^{4}\\psi \\approx \\dfrac{\\psi[i-2,j]-4\\psi[i-1,j] + 6\\psi[i,j]-4\\psi[i+1,j]+ \\psi[i+2,j]}{dx^{4}}\n",
    "\\end{equation}\n",
    "\n",
    "\\begin{equation}\n",
    "\\partial_{y}^{4}\\psi \\approx \\dfrac{\\psi[i,j-2]-4\\psi[i,j-1] + 6\\psi[i,j]-4\\psi[i,j+1]+ \\psi[i,j+2]}{dy^{4}}\n",
    "\\end{equation}\n",
    "\n",
    "\\begin{equation}\n",
    "\\partial_{x}^{2}\\partial_{y}^{2}\\psi \\approx \\dfrac{\\psi[i-1,j+1]-2\\psi[i,j+1] + \\psi[i+1,j+1]-2\\psi[i-1,j]+ 4\\psi[i,j]-2\\psi[i+1,j]+\\psi[i-1,j-1]-2\\psi[i,j-1]+\\psi[i+1,j-1]}{dx^{2}dy^{2}} \n",
    "\\end{equation}"
   ]
  },
  {
   "cell_type": "markdown",
   "metadata": {},
   "source": [
    "\\begin{align*}\n",
    "0 = \\nabla^{4}\\psi \n",
    "& \\approx \\dfrac{\\psi[i-2,j]-4\\psi[i-1,j] + 6\\psi[i,j]-4\\psi[i+1,j]+ \\psi[i+2,j]}{dx^{4}} \\\\\n",
    "& + \\dfrac{\\psi[i,j-2]-4\\psi[i,j-1] + 6\\psi[i,j]-4\\psi[i,j+1]+ \\psi[i,j+2]}{dy^{4}} \\\\\n",
    "& + 2\\dfrac{\\psi[i-1,j+1]-2\\psi[i,j+1] + \\psi[i+1,j+1]-2\\psi[i-1,j]+ 4\\psi[i,j]-2\\psi[i+1,j]+\\psi[i-1,j-1]-2\\psi[i,j-1]+\\psi[i+1,j-1]}{dx^{2}dy^{2}}\n",
    "\\end{align*}\n"
   ]
  },
  {
   "cell_type": "markdown",
   "metadata": {},
   "source": [
    "Où nous avons utilisé le lien suivant pour trouver les coefficients :\n",
    "https://en.wikipedia.org/wiki/Finite_difference_coefficient"
   ]
  },
  {
   "cell_type": "markdown",
   "metadata": {},
   "source": [
    "## Justication des conditions aux bords \n"
   ]
  },
  {
   "cell_type": "markdown",
   "metadata": {},
   "source": [
    "Initialement, on considère un écoulement  instable dans le temps d'un fluide visqueux et incompressible dans une cavité carrée. L'écoulement est engendré par la viscosité dû au mouvement de la paroi supérieure qui est animée d'une vitesse de translation uniforme. Les autres parois étant immobiles. La justification des conditions aux bords se caractérise par le non glissement des particules du fluide sur les parois solides et l'imperméabilité de celle-ci, ce que donne $u=v=0$ sur toutes les parois. \n",
    "En réalité, cela implique que la vitesse tangentielle du fluide au plus proche des bords est la même que la vitesse de la paroi. Par exemple, la vitesse tangentielle près du bord mobile de vitesse $1$ sera $u=1$. "
   ]
  },
  {
   "cell_type": "markdown",
   "metadata": {},
   "source": [
    "Nous importons ce dont nous avons besoin pour résoudre notre problème."
   ]
  },
  {
   "cell_type": "markdown",
   "metadata": {},
   "source": [
    "## Implémentation du code "
   ]
  },
  {
   "cell_type": "code",
   "execution_count": 176,
   "metadata": {
    "collapsed": true
   },
   "outputs": [],
   "source": [
    "import matplotlib.pyplot as plt\n",
    "import numpy\n",
    "import scipy.sparse as sp\n",
    "import scipy.sparse.linalg\n",
    "from math import pi, cos, sin\n",
    "%matplotlib inline\n",
    "from matplotlib import rcParams \n",
    "rcParams['font.family'] = 'serif'\n",
    "rcParams['font.size'] = 16"
   ]
  },
  {
   "cell_type": "markdown",
   "metadata": {
    "collapsed": true
   },
   "source": [
    "On va également utiliser les paramètres de discrétisation imposé dans le MOOC."
   ]
  },
  {
   "cell_type": "markdown",
   "metadata": {},
   "source": [
    "Pour implémenter nos conditions aux bords, nous allons d'abord les discrétiser à l'aide du lien wikipédia."
   ]
  },
  {
   "cell_type": "markdown",
   "metadata": {},
   "source": [
    "On a donc que :\n",
    "\n",
    "\\begin{equation}\n",
    "\\partial_{x} \\psi = \\dfrac{\\dfrac{-3}{2}\\psi[i,j] + 2\\psi[i+1,j] - \\dfrac{1}{2} \\psi[i+2,j]}{dx}\n",
    "\\end{equation}\n",
    "\n",
    "\\begin{equation}\n",
    "\\partial_{y} \\psi = \\dfrac{\\dfrac{-3}{2}\\psi[i,j] + 2\\psi[i,j+1] -\\dfrac{1}{2} \\psi[i,j+2]}{dy}\n",
    "\\end{equation}\n",
    "Au bord: \n",
    "\\begin{equation}\n",
    "\\psi = 0 \n",
    "\\end{equation}"
   ]
  },
  {
   "cell_type": "markdown",
   "metadata": {},
   "source": [
    "Dès lors, on peut implémenter nos conditions aux bords comme suit : à la $t$-ième itération on force que"
   ]
  },
  {
   "cell_type": "markdown",
   "metadata": {},
   "source": [
    "\\begin{cases}\n",
    "-\\dfrac{3}{2}p_t[0,:] &+& 2p_t[1,:] &-& \\dfrac{1}{2}p_t[2,:] &=& 0 & \\text{(Bord $x=0$)} \\\\\n",
    "-\\dfrac{3}{2}p_t[-3,:] &+& 2p_t[-2,:] &-& \\dfrac{1}{2}p_t[-1,:] &=& 0 & \\text{(Bord $x=1$)} \\\\\n",
    "-\\dfrac{3}{2}p_t[:,0] &+& 2p_t[:,1] &-& \\dfrac{1}{2}p_t[:,2] &=& 0 & \\text{(Bord $y=0$)} \\\\\n",
    "-\\dfrac{3}{2}p_t[:,-3] &+& 2p_t[:,-2] &-& \\dfrac{1}{2}p_t[:,-1] &=& dy & \\text{(Bord $y=1$)}\n",
    "\\end{cases}"
   ]
  },
  {
   "cell_type": "markdown",
   "metadata": {},
   "source": [
    "On peut ainsi implémenter les conditions aux bords et le bilaplacien "
   ]
  },
  {
   "cell_type": "code",
   "execution_count": 177,
   "metadata": {
    "collapsed": true
   },
   "outputs": [],
   "source": [
    "def ensure_bc(p,dy):\n",
    "    \n",
    "    p_bc = p.copy()\n",
    "    \n",
    "    p_bc[0,:] = 0\n",
    "    p_bc[-1,:] = 0\n",
    "    p_bc[:,0] = 0\n",
    "    p_bc[:,-1] = 0\n",
    "\n",
    "    p_bc[1,:]  = (1/4)*p[2,:] #forward\n",
    "    p_bc[-2,:] = (1/4)*p[-3,:] #backward\n",
    "    p_bc[:,1]  = (1/4)*p[:,2] #forward\n",
    "    p_bc[:,-2] = (1/4)*p[:,-3] - dy/2 #backward\n",
    "    return(p_bc)"
   ]
  },
  {
   "cell_type": "code",
   "execution_count": 178,
   "metadata": {
    "collapsed": true
   },
   "outputs": [],
   "source": [
    "def bilap(p_brut, dy) : # bilaplacien après s'être des conditions au bord\n",
    "    N = p_brut.shape[0]\n",
    "    p = ensure_bc(p_brut,dy)\n",
    "    Ad = numpy.zeros((N,N))\n",
    "    Ad[2:-2,2:-2] =                        1*p[2:-2,:-4]\\\n",
    "                        + 2*p[1:-3,1:-3] - 8*p[2:-2,1:-3]  + 2*p[3:-1,1:-3]\\\n",
    "        + 1*p[:-4,2:-2] - 8*p[1:-3,2:-2] + 20*p[2:-2,2:-2] - 8*p[3:-1,2:-2] + 1*p[4:,2:-2]\\\n",
    "                        + 2*p[1:-3,3:-1] - 8*p[2:-2,3:-1]  + 2*p[3:-1,3:-1]\\\n",
    "                                         + 1*p[2:-2,4:]\n",
    "    Ad = Ad/dy**4\n",
    "    return Ad"
   ]
  },
  {
   "cell_type": "markdown",
   "metadata": {},
   "source": [
    "On doit utiliser la méthode du gradient conjugué qui est donnée explicitement dans le mooc, pour résoudre l'équation."
   ]
  },
  {
   "cell_type": "code",
   "execution_count": 179,
   "metadata": {
    "collapsed": true
   },
   "outputs": [],
   "source": [
    "def L1norm(matrix,dx): # Si tu retires les erreurs relatives, tu peux bazarder\n",
    "    ''' Compute the L1 norm c\n",
    "     Parameters: \n",
    "     ---------- \n",
    "     matrix: array of float \n",
    "         array 1  \n",
    "    ------- \n",
    "     Relative L1 norm of the difference '''\n",
    "    norm = numpy.sum(numpy.abs(matrix)) * dx**2\n",
    "    \n",
    "    return norm"
   ]
  },
  {
   "cell_type": "code",
   "execution_count": 180,
   "metadata": {
    "collapsed": true
   },
   "outputs": [],
   "source": [
    "def L1_diff(new,old,dx):\n",
    "    ''' Compute the relative L1 norm of the difference of functions on unit square given on a mesh of size dx\n",
    "     Parameters: \n",
    "     ---------- \n",
    "     new : array of float \n",
    "         array 1 \n",
    "     old : array of float \n",
    "         array 2 \n",
    "     Returns: \n",
    "    ------- \n",
    "     Relative L1 norm of the difference '''\n",
    "    norm = numpy.sum(numpy.abs(new-old)) * dx**2\n",
    "    return norm"
   ]
  },
  {
   "cell_type": "code",
   "execution_count": 192,
   "metadata": {
    "collapsed": true
   },
   "outputs": [],
   "source": [
    "def conjugate_gradient_2d(p, b, dx, dy, l1_target):\n",
    "    '''Performs cg relaxation\n",
    "    Assumes Dirichlet boundary conditions p=0\n",
    "    \n",
    "    Parameters:\n",
    "    ----------\n",
    "    p : 2D array of floats\n",
    "        Initial guess\n",
    "    b : 2D array of floats\n",
    "        Source term\n",
    "    dx: float\n",
    "        Mesh spacing in x direction\n",
    "    dy: float\n",
    "        Mesh spacing in y direction\n",
    "    l2_target: float\n",
    "        exit criterion\n",
    "        \n",
    "    Returns:\n",
    "    -------\n",
    "    p: 2D array of float\n",
    "        Distribution after relaxation\n",
    "    '''\n",
    "    ny, nx = p.shape\n",
    "    r  = numpy.zeros((ny,nx)) # residual\n",
    "    Ad  = numpy.zeros((ny,nx)) # to store result of matrix multiplication \n",
    "    \n",
    "    l1_norm = 1\n",
    "    iterations = 0\n",
    "    #l1_conv = []\n",
    "    \n",
    "    # Step-0 We compute the initial residual and \n",
    "    # the first search direction is just this residual\n",
    "    r = b - bilap(p,dx) # Ici \n",
    "    d = r.copy()\n",
    "    rho = numpy.sum(r*r)\n",
    "    Ad = bilap(d,dx) # La\n",
    "    sigma = numpy.sum(d*Ad)\n",
    "    \n",
    "    # Iterations\n",
    "    while l1_norm > l1_target:\n",
    "\n",
    "        pk = p.copy()\n",
    "        rk = r.copy()\n",
    "        dk = d.copy()\n",
    "        \n",
    "        alpha = rho/sigma\n",
    "\n",
    "        p = pk + alpha*dk\n",
    "        r = rk - alpha*Ad\n",
    "        \n",
    "        rhop1 = numpy.sum(r*r)\n",
    "        beta = rhop1 / rho\n",
    "        rho = rhop1\n",
    "        \n",
    "        d = r + beta*dk\n",
    "        Ad = bilap(d,dx)\n",
    "        sigma = numpy.sum(d*Ad)\n",
    "        \n",
    "        # BCs are automatically enforced\n",
    "        \n",
    "        l1_norm = L1_diff(pk,p,dx)\n",
    "        iterations += 1\n",
    "        #l1_conv.append(l1_norm) # Vérifier si dans le MOOC, sinon retirer ici et\n",
    "    \n",
    "    print('Number of CG iterations: {0:d}'.format(iterations))\n",
    "    return p   "
   ]
  },
  {
   "cell_type": "code",
   "execution_count": 193,
   "metadata": {
    "collapsed": true
   },
   "outputs": [],
   "source": [
    "nx = 41\n",
    "ny = 41\n",
    "\n",
    "l = 1.\n",
    "h = 1.\n",
    "\n",
    "dx = l/(nx-1)\n",
    "dy = h/(ny-1)\n",
    "\n",
    "l1_target = 1e-8\n",
    "\n",
    "x  = numpy.linspace(0,l,nx)\n",
    "y  = numpy.linspace(0,h,ny)\n",
    "\n",
    "b = numpy.zeros((nx,ny)) \n",
    "b = ensure_bc(b,dy) \n",
    "\n",
    "p_init = numpy.zeros((nx,ny)) # initial guess"
   ]
  },
  {
   "cell_type": "code",
   "execution_count": 194,
   "metadata": {},
   "outputs": [
    {
     "name": "stdout",
     "output_type": "stream",
     "text": [
      "Number of CG iterations: 768\n"
     ]
    }
   ],
   "source": [
    "p = conjugate_gradient_2d(p_init, b, dx, dy, l1_target) "
   ]
  },
  {
   "cell_type": "code",
   "execution_count": 184,
   "metadata": {},
   "outputs": [
    {
     "name": "stdout",
     "output_type": "stream",
     "text": [
      "[[  0.00000000e+00   0.00000000e+00   0.00000000e+00 ...,   0.00000000e+00\n",
      "   -1.92830362e-05   0.00000000e+00]\n",
      " [  0.00000000e+00   0.00000000e+00   0.00000000e+00 ...,   0.00000000e+00\n",
      "   -1.92830362e-05   0.00000000e+00]\n",
      " [  0.00000000e+00   0.00000000e+00  -6.45514214e-06 ...,  -1.41060915e-02\n",
      "   -1.92830362e-05   0.00000000e+00]\n",
      " ..., \n",
      " [  0.00000000e+00   0.00000000e+00  -6.45515176e-06 ...,  -1.41060915e-02\n",
      "   -1.92830362e-05   0.00000000e+00]\n",
      " [  0.00000000e+00   0.00000000e+00   0.00000000e+00 ...,   0.00000000e+00\n",
      "   -1.92830362e-05   0.00000000e+00]\n",
      " [  0.00000000e+00   0.00000000e+00   0.00000000e+00 ...,   0.00000000e+00\n",
      "   -1.92830362e-05   0.00000000e+00]]\n"
     ]
    }
   ],
   "source": [
    "print(p)"
   ]
  },
  {
   "cell_type": "code",
   "execution_count": 185,
   "metadata": {},
   "outputs": [
    {
     "data": {
      "text/plain": [
       "<matplotlib.image.AxesImage at 0x11ad6fe10>"
      ]
     },
     "execution_count": 185,
     "metadata": {},
     "output_type": "execute_result"
    },
    {
     "data": {
      "image/png": "[encoded data removed]",
      "text/plain": [
       "<matplotlib.figure.Figure at 0x11ab43e10>"
      ]
     },
     "metadata": {},
     "output_type": "display_data"
    }
   ],
   "source": [
    "plt.imshow(p)"
   ]
  },
  {
   "cell_type": "code",
   "execution_count": 186,
   "metadata": {
    "collapsed": true
   },
   "outputs": [],
   "source": [
    "rel_err = L1norm(bilap(p,dx),dx) / L1norm(p,dx)"
   ]
  },
  {
   "cell_type": "code",
   "execution_count": 187,
   "metadata": {},
   "outputs": [
    {
     "data": {
      "text/plain": [
       "5.296483227410107"
      ]
     },
     "execution_count": 187,
     "metadata": {},
     "output_type": "execute_result"
    }
   ],
   "source": [
    "rel_err"
   ]
  },
  {
   "cell_type": "markdown",
   "metadata": {},
   "source": [
    "Ceci nous montre que le liquide va créer du remous à faible profondeur, alors qu'il reste \"calme\" sur les trois autres côtés de la boite. Ce schéma semble ressembler à celui suggéré comme solution finale dans l'énoncé du problème. On peut apercevoir que les conditions aux bords sur $\\psi$ semblent bien respectées: $\\psi = 0$ le long des bords et les dérivées selon $x$ et selon $y$ s'annulent aux bords. On peut noter que sur le bord supérieure, là où la couleur est foncée, la dérivée ne s'annule pas.   "
   ]
  },
  {
   "cell_type": "markdown",
   "metadata": {},
   "source": [
    "Quelle est la valeur de la fonction de flux $\\psi$ en (0.6;0.6)?"
   ]
  },
  {
   "cell_type": "code",
   "execution_count": 188,
   "metadata": {},
   "outputs": [
    {
     "data": {
      "text/plain": [
       "-0.073807772553525761"
      ]
     },
     "execution_count": 188,
     "metadata": {},
     "output_type": "execute_result"
    }
   ],
   "source": [
    "p[24,24]"
   ]
  },
  {
   "cell_type": "markdown",
   "metadata": {},
   "source": [
    "Quelle est la valeur de la fonction de flux $\\psi$ en (0.6;0.2)?"
   ]
  },
  {
   "cell_type": "code",
   "execution_count": 189,
   "metadata": {},
   "outputs": [
    {
     "data": {
      "text/plain": [
       "-0.010044562002181772"
      ]
     },
     "execution_count": 189,
     "metadata": {},
     "output_type": "execute_result"
    }
   ],
   "source": [
    "p[24,8]"
   ]
  },
  {
   "cell_type": "markdown",
   "metadata": {},
   "source": [
    "Quelle est la valeur de la fonction de flux $\\psi$ en (0.6;0.4)?"
   ]
  },
  {
   "cell_type": "code",
   "execution_count": 190,
   "metadata": {},
   "outputs": [
    {
     "data": {
      "text/plain": [
       "-0.036165903145769479"
      ]
     },
     "execution_count": 190,
     "metadata": {},
     "output_type": "execute_result"
    }
   ],
   "source": [
    "p[24,16]"
   ]
  },
  {
   "cell_type": "markdown",
   "metadata": {},
   "source": [
    "Quelle est la valeur de la fonction de flux $\\psi$ en (0.6;0.8)?"
   ]
  },
  {
   "cell_type": "code",
   "execution_count": 191,
   "metadata": {},
   "outputs": [
    {
     "data": {
      "text/plain": [
       "-0.094467595421445769"
      ]
     },
     "execution_count": 191,
     "metadata": {},
     "output_type": "execute_result"
    }
   ],
   "source": [
    "p[24,32]"
   ]
  },
  {
   "cell_type": "markdown",
   "metadata": {
    "collapsed": true
   },
   "source": [
    "## CONCLUSION\n",
    "  "
   ]
  },
  {
   "cell_type": "markdown",
   "metadata": {},
   "source": [
    "L'énoncé du problème était de résoudre un bilaplacien $\\psi$ pour trouver la valeur de la fonction de flux $\\psi$ à certains endroits. La discrétisation du bilaplcien d'ordre 2 était nécessaire ainsi que la discrétisation des conditions aux bords. Ainsi vient l'implémentation de la méthode demandée (méthode du gradient conjugué) en modifiant l'algorithme pour l'adapter à notre problème. La solution de notre problème semble correcte, en raison de la solution trouvée. "
   ]
  }
 ],
 "metadata": {
  "kernelspec": {
   "display_name": "Python 3",
   "language": "python",
   "name": "python3"
  },
  "language_info": {
   "codemirror_mode": {
    "name": "ipython",
    "version": 3
   },
   "file_extension": ".py",
   "mimetype": "text/x-python",
   "name": "python",
   "nbconvert_exporter": "python",
   "pygments_lexer": "ipython3",
   "version": "3.6.1"
  }
 },
 "nbformat": 4,
 "nbformat_minor": 2
}
